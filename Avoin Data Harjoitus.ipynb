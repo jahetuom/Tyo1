{
 "cells": [
  {
   "cell_type": "markdown",
   "metadata": {
    "collapsed": true
   },
   "source": [
    "# Otsikko placeholder"
   ]
  },
  {
   "cell_type": "markdown",
   "metadata": {},
   "source": [
    "## Koodin alustaminen"
   ]
  },
  {
   "cell_type": "code",
   "execution_count": 1,
   "metadata": {
    "collapsed": true
   },
   "outputs": [],
   "source": [
    "# Oleellisimmat paketit:\n",
    "\n",
    "import pandas as pd   # sisältää erilaisia datan lukemiseen liittyviä työkaluja\n",
    "import numpy as np   # sisältää erilaisia numeerisen laskennan työkaluja\n",
    "import matplotlib.pyplot as plt  # sisältää kuvaajien (plot) piirtotyökaluja\n",
    "\n",
    "# Muita hyödyllisiä paketteja:\n",
    "\n",
    "import random as rand   # sisältää funktioita satunnaislukujen generoimiseen\n",
    "from scipy import stats    # sisältää tieteellistä laskentaa ja tilastolaskentaa\n",
    "from scipy.stats import norm    # normaalijakaumatyökaluja\n",
    "import matplotlib.mlab as mlab  # lisää kuvaajatyökaluja monimutkaisempiin kuvaajiin\n",
    "\n",
    "# Ei paketti, mutta oleellinen komento joka mahdollistaa tulosten näkymisen nätisti harjoitteissa:\n",
    "\n",
    "%matplotlib inline"
   ]
  },
  {
   "cell_type": "markdown",
   "metadata": {},
   "source": [
    "## Ideoita"
   ]
  },
  {
   "cell_type": "markdown",
   "metadata": {},
   "source": [
    "- CMS kokeet ovat tavallaan ihan tavallisia fysiikan kokeita\n",
    "- Nykyään dataa on paljon ja tarvitaan koodia sen käsittelyyn. Esimerkkinä voi olla CMS data.\n",
    "    - tavoitteena innostaa ohjelmoinnin ottamiseen osaksi muita opintojaan\n",
    "\n",
    "\n"
   ]
  },
  {
   "cell_type": "markdown",
   "metadata": {},
   "source": [
    "## Avoin Data - Miksi ohjelmointi tärkeää monessa ammatissa?"
   ]
  },
  {
   "cell_type": "markdown",
   "metadata": {},
   "source": [
    "- Ohjelmoinnin perustaidot tulevaisuudessa edellytys monen ammatin harjoittamiseen\n",
    "\n",
    "Miksi?\n",
    "- tietokoneiden avulla datan kerääminen älyttömän helppoa\n",
    "    - Ongelmana, että halutaan tallentaa kaikki mahdollinen\n",
    "- Työntekijän tehtävä käydä läpi valtava datamäärä ja etsiä sieltä omaa yritystä hyödyttävät tiedot ja tulkita niitä\n",
    "    - Käsin liian työlästä, mutta tietokone on myös helppo käskeä perkaamaan data meidän puolesta muutamalla komennolla"
   ]
  },
  {
   "cell_type": "markdown",
   "metadata": {},
   "source": [
    "## Hiukkasfyysikot pulassa - Auta CERN:in tutkijoita"
   ]
  },
  {
   "cell_type": "markdown",
   "metadata": {},
   "source": [
    "### Mikä on hiukkaskiihdytin"
   ]
  },
  {
   "cell_type": "markdown",
   "metadata": {},
   "source": [
    "LHC hiukkaskiihdyttimellä voidaan kiihdyttää hiukkasia esim. protoneja lähes valonnopeuteen ja törmäyttää nämä hiukkaset keskenään. Tutkimalla törmäyksessä syntyviä hiukkasia tutkijat pystyvät testaamaan teorioitansa maailmankaikkeuden pienimmistä osasista.\n",
    "\n",
    "Videolla näytetään, kuinka protonit kiihdytetään LHC:n avulla lähes valonnopeuteen ja törmäytetään yhteen. Tietokoneet on __ohjelmoitu__ perkaamaan törmäyksessä syntyvää dataa."
   ]
  },
  {
   "cell_type": "code",
   "execution_count": 2,
   "metadata": {},
   "outputs": [
    {
     "data": {
      "text/html": [
       "<iframe width=\"560\" height=\"315\" src=\"https://www.youtube.com/embed/pQhbhpU9Wrg\" frameborder=\"0\" allow=\"autoplay; encrypted-media\" allowfullscreen></iframe>"
      ],
      "text/plain": [
       "<IPython.core.display.HTML object>"
      ]
     },
     "execution_count": 2,
     "metadata": {},
     "output_type": "execute_result"
    }
   ],
   "source": [
    "from IPython.display import HTML\n",
    "\n",
    "HTML('<iframe width=\"560\" height=\"315\" src=\"https://www.youtube.com/embed/pQhbhpU9Wrg\" frameborder=\"0\" allow=\"autoplay; encrypted-media\" allowfullscreen></iframe>')"
   ]
  },
  {
   "cell_type": "markdown",
   "metadata": {},
   "source": [
    "### Datan käsittely"
   ]
  },
  {
   "cell_type": "markdown",
   "metadata": {},
   "source": [
    "Avataan ensin mittauksesta saatu data-paketti. Tämä data-paketti on jo esikäsitelty, ja siitä on karsittu paljon epäoleellista tietoa pois. Jäljellä on kahden törmäyksestä syntyneen muoni-hiukkasen tiedot."
   ]
  },
  {
   "cell_type": "code",
   "execution_count": 4,
   "metadata": {},
   "outputs": [],
   "source": [
    "Zmuonmuon = pd.read_csv('data/Zmumu_Run2011A_massat.csv')"
   ]
  },
  {
   "cell_type": "markdown",
   "metadata": {},
   "source": [
    "Katsotaan ensin, mitä tämän data tiedoston viisi ensimmäistä riviä pitää sisällään."
   ]
  },
  {
   "cell_type": "code",
   "execution_count": 5,
   "metadata": {
    "scrolled": true
   },
   "outputs": [
    {
     "data": {
      "text/html": [
       "<div>\n",
       "<style>\n",
       "    .dataframe thead tr:only-child th {\n",
       "        text-align: right;\n",
       "    }\n",
       "\n",
       "    .dataframe thead th {\n",
       "        text-align: left;\n",
       "    }\n",
       "\n",
       "    .dataframe tbody tr th {\n",
       "        vertical-align: top;\n",
       "    }\n",
       "</style>\n",
       "<table border=\"1\" class=\"dataframe\">\n",
       "  <thead>\n",
       "    <tr style=\"text-align: right;\">\n",
       "      <th></th>\n",
       "      <th>Run</th>\n",
       "      <th>Event</th>\n",
       "      <th>Type1</th>\n",
       "      <th>E1</th>\n",
       "      <th>px1</th>\n",
       "      <th>py1</th>\n",
       "      <th>pz1</th>\n",
       "      <th>pt1</th>\n",
       "      <th>eta1</th>\n",
       "      <th>phi1</th>\n",
       "      <th>...</th>\n",
       "      <th>Type2</th>\n",
       "      <th>E2</th>\n",
       "      <th>px2</th>\n",
       "      <th>py2</th>\n",
       "      <th>pz2</th>\n",
       "      <th>pt2</th>\n",
       "      <th>eta2</th>\n",
       "      <th>phi2</th>\n",
       "      <th>Q2</th>\n",
       "      <th>M</th>\n",
       "    </tr>\n",
       "  </thead>\n",
       "  <tbody>\n",
       "    <tr>\n",
       "      <th>0</th>\n",
       "      <td>165617</td>\n",
       "      <td>74969122</td>\n",
       "      <td>G</td>\n",
       "      <td>59.9226</td>\n",
       "      <td>-46.15160</td>\n",
       "      <td>29.4115</td>\n",
       "      <td>-24.4070</td>\n",
       "      <td>54.7055</td>\n",
       "      <td>-0.432396</td>\n",
       "      <td>2.574210</td>\n",
       "      <td>...</td>\n",
       "      <td>G</td>\n",
       "      <td>52.4465</td>\n",
       "      <td>30.10970</td>\n",
       "      <td>-16.39890</td>\n",
       "      <td>-39.68760</td>\n",
       "      <td>34.2464</td>\n",
       "      <td>-0.988480</td>\n",
       "      <td>-0.498704</td>\n",
       "      <td>-1</td>\n",
       "      <td>89.9557</td>\n",
       "    </tr>\n",
       "    <tr>\n",
       "      <th>1</th>\n",
       "      <td>165617</td>\n",
       "      <td>75138253</td>\n",
       "      <td>G</td>\n",
       "      <td>97.1011</td>\n",
       "      <td>-23.61440</td>\n",
       "      <td>6.6660</td>\n",
       "      <td>-93.9497</td>\n",
       "      <td>24.5872</td>\n",
       "      <td>-2.052200</td>\n",
       "      <td>2.866570</td>\n",
       "      <td>...</td>\n",
       "      <td>G</td>\n",
       "      <td>30.5992</td>\n",
       "      <td>-11.61340</td>\n",
       "      <td>-25.98480</td>\n",
       "      <td>11.23470</td>\n",
       "      <td>28.5389</td>\n",
       "      <td>0.385163</td>\n",
       "      <td>-1.991170</td>\n",
       "      <td>1</td>\n",
       "      <td>88.6081</td>\n",
       "    </tr>\n",
       "    <tr>\n",
       "      <th>2</th>\n",
       "      <td>165617</td>\n",
       "      <td>75887636</td>\n",
       "      <td>G</td>\n",
       "      <td>152.9720</td>\n",
       "      <td>7.46565</td>\n",
       "      <td>-30.7098</td>\n",
       "      <td>-149.6710</td>\n",
       "      <td>31.7386</td>\n",
       "      <td>-2.259450</td>\n",
       "      <td>-1.332290</td>\n",
       "      <td>...</td>\n",
       "      <td>G</td>\n",
       "      <td>33.5835</td>\n",
       "      <td>-9.28778</td>\n",
       "      <td>28.74570</td>\n",
       "      <td>-14.67190</td>\n",
       "      <td>30.2344</td>\n",
       "      <td>-0.468419</td>\n",
       "      <td>1.883310</td>\n",
       "      <td>1</td>\n",
       "      <td>88.2438</td>\n",
       "    </tr>\n",
       "    <tr>\n",
       "      <th>3</th>\n",
       "      <td>165617</td>\n",
       "      <td>75833588</td>\n",
       "      <td>G</td>\n",
       "      <td>181.8770</td>\n",
       "      <td>44.14270</td>\n",
       "      <td>-14.9498</td>\n",
       "      <td>175.8040</td>\n",
       "      <td>46.7085</td>\n",
       "      <td>2.037940</td>\n",
       "      <td>-0.326565</td>\n",
       "      <td>...</td>\n",
       "      <td>G</td>\n",
       "      <td>170.0210</td>\n",
       "      <td>-34.63010</td>\n",
       "      <td>12.32480</td>\n",
       "      <td>166.00000</td>\n",
       "      <td>36.1024</td>\n",
       "      <td>2.212810</td>\n",
       "      <td>2.799550</td>\n",
       "      <td>-1</td>\n",
       "      <td>83.0943</td>\n",
       "    </tr>\n",
       "    <tr>\n",
       "      <th>4</th>\n",
       "      <td>165617</td>\n",
       "      <td>75779415</td>\n",
       "      <td>G</td>\n",
       "      <td>50.2440</td>\n",
       "      <td>37.80720</td>\n",
       "      <td>-12.2044</td>\n",
       "      <td>-30.7590</td>\n",
       "      <td>39.7394</td>\n",
       "      <td>-0.712338</td>\n",
       "      <td>-0.312266</td>\n",
       "      <td>...</td>\n",
       "      <td>G</td>\n",
       "      <td>49.2396</td>\n",
       "      <td>-47.60640</td>\n",
       "      <td>8.23376</td>\n",
       "      <td>-9.50613</td>\n",
       "      <td>48.2790</td>\n",
       "      <td>-0.195625</td>\n",
       "      <td>2.970320</td>\n",
       "      <td>-1</td>\n",
       "      <td>90.3544</td>\n",
       "    </tr>\n",
       "  </tbody>\n",
       "</table>\n",
       "<p>5 rows × 21 columns</p>\n",
       "</div>"
      ],
      "text/plain": [
       "      Run     Event Type1        E1       px1      py1       pz1      pt1  \\\n",
       "0  165617  74969122     G   59.9226 -46.15160  29.4115  -24.4070  54.7055   \n",
       "1  165617  75138253     G   97.1011 -23.61440   6.6660  -93.9497  24.5872   \n",
       "2  165617  75887636     G  152.9720   7.46565 -30.7098 -149.6710  31.7386   \n",
       "3  165617  75833588     G  181.8770  44.14270 -14.9498  175.8040  46.7085   \n",
       "4  165617  75779415     G   50.2440  37.80720 -12.2044  -30.7590  39.7394   \n",
       "\n",
       "       eta1      phi1   ...     Type2        E2       px2       py2  \\\n",
       "0 -0.432396  2.574210   ...         G   52.4465  30.10970 -16.39890   \n",
       "1 -2.052200  2.866570   ...         G   30.5992 -11.61340 -25.98480   \n",
       "2 -2.259450 -1.332290   ...         G   33.5835  -9.28778  28.74570   \n",
       "3  2.037940 -0.326565   ...         G  170.0210 -34.63010  12.32480   \n",
       "4 -0.712338 -0.312266   ...         G   49.2396 -47.60640   8.23376   \n",
       "\n",
       "         pz2      pt2      eta2      phi2  Q2        M  \n",
       "0  -39.68760  34.2464 -0.988480 -0.498704  -1  89.9557  \n",
       "1   11.23470  28.5389  0.385163 -1.991170   1  88.6081  \n",
       "2  -14.67190  30.2344 -0.468419  1.883310   1  88.2438  \n",
       "3  166.00000  36.1024  2.212810  2.799550  -1  83.0943  \n",
       "4   -9.50613  48.2790 -0.195625  2.970320  -1  90.3544  \n",
       "\n",
       "[5 rows x 21 columns]"
      ]
     },
     "execution_count": 5,
     "metadata": {},
     "output_type": "execute_result"
    }
   ],
   "source": [
    "Zmuonmuon.head()"
   ]
  },
  {
   "cell_type": "markdown",
   "metadata": {},
   "source": [
    "Tämä datamäärä ei näytä vielä kovin uhkaavalta, mutta katsotaan, kuinka monta riviä tässä dokumentissa on."
   ]
  },
  {
   "cell_type": "code",
   "execution_count": 12,
   "metadata": {},
   "outputs": [
    {
     "name": "stdout",
     "output_type": "stream",
     "text": [
      "Tässä dokumentissa on 10851 riviä.\n"
     ]
    }
   ],
   "source": [
    "rivit = len(kaksoismyonit)\n",
    "print(\"Tässä dokumentissa on %d riviä.\" % rivit)"
   ]
  },
  {
   "cell_type": "markdown",
   "metadata": {},
   "source": [
    "Datan ensimmäisellä rivillä on paljon englanninkielisiä selitteitä eri arvoille. Käännetään nämä arvot mahdollisimman kuvaaviksi suomenkielisiksi termeiksi"
   ]
  },
  {
   "cell_type": "code",
   "execution_count": 21,
   "metadata": {
    "collapsed": true
   },
   "outputs": [],
   "source": [
    "Zmuonmuon = pd.read_csv('data/Zmumu_Run2011A_massat.csv', sep=',', encoding = \"ISO-8859-1\", header = None, \n",
    "names = ['Mittauksen numero','Törmäyksen numero','Type1','Ensimmäisen Muonin energia','px1','py1','pz1','pt1','eta1',\n",
    "         'phi1','Q1','Type2','Toisen Muonin energia','px2','py2','pz2','pt2','eta2','phi2','Q2','M'])"
   ]
  },
  {
   "cell_type": "code",
   "execution_count": 22,
   "metadata": {},
   "outputs": [
    {
     "data": {
      "text/html": [
       "<div>\n",
       "<style>\n",
       "    .dataframe thead tr:only-child th {\n",
       "        text-align: right;\n",
       "    }\n",
       "\n",
       "    .dataframe thead th {\n",
       "        text-align: left;\n",
       "    }\n",
       "\n",
       "    .dataframe tbody tr th {\n",
       "        vertical-align: top;\n",
       "    }\n",
       "</style>\n",
       "<table border=\"1\" class=\"dataframe\">\n",
       "  <thead>\n",
       "    <tr style=\"text-align: right;\">\n",
       "      <th></th>\n",
       "      <th>Mittauksen numero</th>\n",
       "      <th>Törmäyksen numero</th>\n",
       "      <th>Type1</th>\n",
       "      <th>1. Muonin energia</th>\n",
       "      <th>px1</th>\n",
       "      <th>py1</th>\n",
       "      <th>pz1</th>\n",
       "      <th>pt1</th>\n",
       "      <th>eta1</th>\n",
       "      <th>phi1</th>\n",
       "      <th>...</th>\n",
       "      <th>Type2</th>\n",
       "      <th>Toisen Muonin energia</th>\n",
       "      <th>px2</th>\n",
       "      <th>py2</th>\n",
       "      <th>pz2</th>\n",
       "      <th>pt2</th>\n",
       "      <th>eta2</th>\n",
       "      <th>phi2</th>\n",
       "      <th>Q2</th>\n",
       "      <th>M</th>\n",
       "    </tr>\n",
       "  </thead>\n",
       "  <tbody>\n",
       "    <tr>\n",
       "      <th>0</th>\n",
       "      <td>Run</td>\n",
       "      <td>Event</td>\n",
       "      <td>Type1</td>\n",
       "      <td>E1</td>\n",
       "      <td>px1</td>\n",
       "      <td>py1</td>\n",
       "      <td>pz1</td>\n",
       "      <td>pt1</td>\n",
       "      <td>eta1</td>\n",
       "      <td>phi1</td>\n",
       "      <td>...</td>\n",
       "      <td>Type2</td>\n",
       "      <td>E2</td>\n",
       "      <td>px2</td>\n",
       "      <td>py2</td>\n",
       "      <td>pz2</td>\n",
       "      <td>pt2</td>\n",
       "      <td>eta2</td>\n",
       "      <td>phi2</td>\n",
       "      <td>Q2</td>\n",
       "      <td>M</td>\n",
       "    </tr>\n",
       "    <tr>\n",
       "      <th>1</th>\n",
       "      <td>165617</td>\n",
       "      <td>74969122</td>\n",
       "      <td>G</td>\n",
       "      <td>59.9226</td>\n",
       "      <td>-46.1516</td>\n",
       "      <td>29.4115</td>\n",
       "      <td>-24.407</td>\n",
       "      <td>54.7055</td>\n",
       "      <td>-0.432396</td>\n",
       "      <td>2.57421</td>\n",
       "      <td>...</td>\n",
       "      <td>G</td>\n",
       "      <td>52.4465</td>\n",
       "      <td>30.1097</td>\n",
       "      <td>-16.3989</td>\n",
       "      <td>-39.6876</td>\n",
       "      <td>34.2464</td>\n",
       "      <td>-0.98848</td>\n",
       "      <td>-0.498704</td>\n",
       "      <td>-1</td>\n",
       "      <td>89.9557</td>\n",
       "    </tr>\n",
       "    <tr>\n",
       "      <th>2</th>\n",
       "      <td>165617</td>\n",
       "      <td>75138253</td>\n",
       "      <td>G</td>\n",
       "      <td>97.1011</td>\n",
       "      <td>-23.6144</td>\n",
       "      <td>6.666</td>\n",
       "      <td>-93.9497</td>\n",
       "      <td>24.5872</td>\n",
       "      <td>-2.0522</td>\n",
       "      <td>2.86657</td>\n",
       "      <td>...</td>\n",
       "      <td>G</td>\n",
       "      <td>30.5992</td>\n",
       "      <td>-11.6134</td>\n",
       "      <td>-25.9848</td>\n",
       "      <td>11.2347</td>\n",
       "      <td>28.5389</td>\n",
       "      <td>0.385163</td>\n",
       "      <td>-1.99117</td>\n",
       "      <td>1</td>\n",
       "      <td>88.6081</td>\n",
       "    </tr>\n",
       "    <tr>\n",
       "      <th>3</th>\n",
       "      <td>165617</td>\n",
       "      <td>75887636</td>\n",
       "      <td>G</td>\n",
       "      <td>152.972</td>\n",
       "      <td>7.46565</td>\n",
       "      <td>-30.7098</td>\n",
       "      <td>-149.671</td>\n",
       "      <td>31.7386</td>\n",
       "      <td>-2.25945</td>\n",
       "      <td>-1.33229</td>\n",
       "      <td>...</td>\n",
       "      <td>G</td>\n",
       "      <td>33.5835</td>\n",
       "      <td>-9.28778</td>\n",
       "      <td>28.7457</td>\n",
       "      <td>-14.6719</td>\n",
       "      <td>30.2344</td>\n",
       "      <td>-0.468419</td>\n",
       "      <td>1.88331</td>\n",
       "      <td>1</td>\n",
       "      <td>88.2438</td>\n",
       "    </tr>\n",
       "    <tr>\n",
       "      <th>4</th>\n",
       "      <td>165617</td>\n",
       "      <td>75833588</td>\n",
       "      <td>G</td>\n",
       "      <td>181.877</td>\n",
       "      <td>44.1427</td>\n",
       "      <td>-14.9498</td>\n",
       "      <td>175.804</td>\n",
       "      <td>46.7085</td>\n",
       "      <td>2.03794</td>\n",
       "      <td>-0.326565</td>\n",
       "      <td>...</td>\n",
       "      <td>G</td>\n",
       "      <td>170.021</td>\n",
       "      <td>-34.6301</td>\n",
       "      <td>12.3248</td>\n",
       "      <td>166</td>\n",
       "      <td>36.1024</td>\n",
       "      <td>2.21281</td>\n",
       "      <td>2.79955</td>\n",
       "      <td>-1</td>\n",
       "      <td>83.0943</td>\n",
       "    </tr>\n",
       "  </tbody>\n",
       "</table>\n",
       "<p>5 rows × 21 columns</p>\n",
       "</div>"
      ],
      "text/plain": [
       "  Mittauksen numero Törmäyksen numero  Type1 1. Muonin energia       px1  \\\n",
       "0               Run             Event  Type1                E1       px1   \n",
       "1            165617          74969122      G           59.9226  -46.1516   \n",
       "2            165617          75138253      G           97.1011  -23.6144   \n",
       "3            165617          75887636      G           152.972   7.46565   \n",
       "4            165617          75833588      G           181.877   44.1427   \n",
       "\n",
       "        py1       pz1      pt1       eta1       phi1   ...     Type2  \\\n",
       "0       py1       pz1      pt1       eta1       phi1   ...     Type2   \n",
       "1   29.4115   -24.407  54.7055  -0.432396    2.57421   ...         G   \n",
       "2     6.666  -93.9497  24.5872    -2.0522    2.86657   ...         G   \n",
       "3  -30.7098  -149.671  31.7386   -2.25945   -1.33229   ...         G   \n",
       "4  -14.9498   175.804  46.7085    2.03794  -0.326565   ...         G   \n",
       "\n",
       "  Toisen Muonin energia       px2       py2       pz2      pt2       eta2  \\\n",
       "0                    E2       px2       py2       pz2      pt2       eta2   \n",
       "1               52.4465   30.1097  -16.3989  -39.6876  34.2464   -0.98848   \n",
       "2               30.5992  -11.6134  -25.9848   11.2347  28.5389   0.385163   \n",
       "3               33.5835  -9.28778   28.7457  -14.6719  30.2344  -0.468419   \n",
       "4               170.021  -34.6301   12.3248       166  36.1024    2.21281   \n",
       "\n",
       "        phi2  Q2        M  \n",
       "0       phi2  Q2        M  \n",
       "1  -0.498704  -1  89.9557  \n",
       "2   -1.99117   1  88.6081  \n",
       "3    1.88331   1  88.2438  \n",
       "4    2.79955  -1  83.0943  \n",
       "\n",
       "[5 rows x 21 columns]"
      ]
     },
     "execution_count": 22,
     "metadata": {},
     "output_type": "execute_result"
    }
   ],
   "source": [
    "Zmuonmuon.head()"
   ]
  },
  {
   "cell_type": "markdown",
   "metadata": {},
   "source": [
    "### Ongelmia"
   ]
  },
  {
   "cell_type": "markdown",
   "metadata": {},
   "source": [
    "- Oppilaat tuntevat atomin rakenteen, ja tuntevat alfa-, beta- ja gamma säteilyn\n",
    "    - Aiheessa paljon uusia käsitteitä, joita voi olla hankala sisäistää\n",
    "    \n",
    "Yksinkertaistaminen ei silti ole mahdotonta yläkoulun tasolle, mutta vaatii hyvää asiantuntemusta."
   ]
  },
  {
   "cell_type": "markdown",
   "metadata": {},
   "source": [
    "### Ehdotuksia"
   ]
  },
  {
   "cell_type": "markdown",
   "metadata": {},
   "source": [
    "- Sen sijaan, että yläkoulussa käsiteltäisiin CERN:nin mittaustuloksia, analysoitaisiinkin CERN:iin ja sen työyhteisöön liityvää dataa. Aiheita jotka voisi motivoida lukemaan fysiikaa lukiossa.\n",
    "    - Tutkijoiden sukupuolijakauma. Murretaan myyttiä fysiikasta \"tieteen viimeisenä miehisenä linnakkeena\"\n",
    "    - Tulevien harjottelijoiden määrät ja kotimaat. Analysointia kuvaajalla.\n",
    "    - CERN:in energian kulutuksen vaihteluista kuukauden aikana.\n",
    "- Hylätään CERN ja tuodaan vain ohjelmointi oppilastöiden välineeksi\n",
    "    - Radioaktiivisen hajoamisen data analysointi\n",
    "    - Mitataan kännykällä \"dataa\" ja tulkitaan sitä \n",
    "    - Pienempien kiihdyttimien datan analysointia jossa reaktiot \"yksinkertaisempia\"\n",
    "    \n",
    " Markkinointi matemaatikoille"
   ]
  }
 ],
 "metadata": {
  "kernelspec": {
   "display_name": "Python 3",
   "language": "python",
   "name": "python3"
  },
  "language_info": {
   "codemirror_mode": {
    "name": "ipython",
    "version": 3
   },
   "file_extension": ".py",
   "mimetype": "text/x-python",
   "name": "python",
   "nbconvert_exporter": "python",
   "pygments_lexer": "ipython3",
   "version": "3.6.1"
  }
 },
 "nbformat": 4,
 "nbformat_minor": 2
}
