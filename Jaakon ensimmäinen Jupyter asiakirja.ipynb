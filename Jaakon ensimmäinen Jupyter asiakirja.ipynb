{
 "cells": [
  {
   "cell_type": "markdown",
   "metadata": {},
   "source": [
    "# Tervetuloa"
   ]
  },
  {
   "cell_type": "markdown",
   "metadata": {},
   "source": [
    "Tervetuloa käyttämään Jupyter notebookia. Aloitamme esittelemällä kaikkien suosikkipupun Akun (rip)\n",
    "\n",
    "<img src=\"kuvat/aku.jpg\" alt=\"Suosikki pupu AKU!\" width=\"250\" height=\"300\">\n"
   ]
  },
  {
   "cell_type": "markdown",
   "metadata": {},
   "source": [
    "## Ohjeita itselle"
   ]
  },
  {
   "cell_type": "markdown",
   "metadata": {},
   "source": [
    "Jos käytät jotain paketteja, sinun täytyy luoda uusi kansio notebookin juureen, johon lisäät käytetyt paketit\n",
    "\n",
    "Tiedoston nimi requirements.txt\n",
    "esim jos minulla on numpy paketti lisättynä, niin kirjoitetaan ekalle riville numpy ja vaihdetaan riviä\n",
    "\n",
    "githubissa jukkasor - Jukan tekemää materiaali, ANNA JUKALLE MYÖS PALAUTETTA JOS KÄYTÄT MATERIAALIA\n"
   ]
  },
  {
   "cell_type": "markdown",
   "metadata": {},
   "source": [
    "## Esittely video"
   ]
  },
  {
   "cell_type": "markdown",
   "metadata": {},
   "source": [
    "Katso alla oleva video. PHYPHOX on hyödyllinen applikaatio."
   ]
  },
  {
   "cell_type": "code",
   "execution_count": null,
   "metadata": {
    "collapsed": true
   },
   "outputs": [],
   "source": [
    "from IPython.display import HTML\n",
    "\n",
    "HTML('<iframe width=\"560\" height=\"315\" src=\"https://www.youtube.com/embed/dMH0bHeiRNg\" frameborder=\"0\" allow=\"autoplay; encrypted-media\" allowfullscreen></iframe>')"
   ]
  },
  {
   "cell_type": "markdown",
   "metadata": {},
   "source": [
    "## Ensimmäinen ohjelmointiharjoitus"
   ]
  },
  {
   "cell_type": "markdown",
   "metadata": {},
   "source": [
    "Laskekaa luokkanne oppilaiden keskimääräinen perhekoko"
   ]
  },
  {
   "cell_type": "code",
   "execution_count": null,
   "metadata": {
    "collapsed": true
   },
   "outputs": [],
   "source": [
    "#Syötä oppilaiden perhekoot alla olevaan listaan pilkulla erotettuna\n",
    "perhekoko=[\n",
    "    4,\n",
    "    5,\n",
    "    8,\n",
    "    3,\n",
    "    5,\n",
    "    6,\n",
    "    5,\n",
    "    12,\n",
    "    3,\n",
    "    2\n",
    "]\n",
    "#Allaoleva koodi laskee keskiarvon\n",
    "oppilaita=(len(perhekoko))\n",
    "keskimääräinenPerhe=sum(perhekoko)/len(perhekoko)\n",
    "print(\"Keskimääräinen perhekoko on:\")\n",
    "print(keskimääräinenPerhe)"
   ]
  },
  {
   "cell_type": "markdown",
   "metadata": {},
   "source": [
    "Piirretään vielä histogrammi\n",
    "\n",
    "Ensin ladataan numeroita ja dataa murskaava lisäpaketti"
   ]
  },
  {
   "cell_type": "code",
   "execution_count": null,
   "metadata": {
    "collapsed": true
   },
   "outputs": [],
   "source": [
    "import numpy as np\n",
    "import matplotlib.pyplot as plt\n"
   ]
  },
  {
   "cell_type": "code",
   "execution_count": null,
   "metadata": {
    "collapsed": true
   },
   "outputs": [],
   "source": [
    "plt.hist(perhekoko, bins=200)  # arguments are passed to np.histogram\n",
    "plt.title(\"Oppilaiden perhekoot\")\n",
    "plt.show()"
   ]
  }
 ],
 "metadata": {
  "kernelspec": {
   "display_name": "Python 3",
   "language": "python",
   "name": "python3"
  },
  "language_info": {
   "codemirror_mode": {
    "name": "ipython",
    "version": 3
   },
   "file_extension": ".py",
   "mimetype": "text/x-python",
   "name": "python",
   "nbconvert_exporter": "python",
   "pygments_lexer": "ipython3",
   "version": "3.6.1"
  }
 },
 "nbformat": 4,
 "nbformat_minor": 2
}
