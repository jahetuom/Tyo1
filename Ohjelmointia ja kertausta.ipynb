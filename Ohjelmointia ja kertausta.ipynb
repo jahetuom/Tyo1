{
 "cells": [
  {
   "cell_type": "markdown",
   "metadata": {},
   "source": [
    "# Miten tämä asiakirja toimii?"
   ]
  },
  {
   "cell_type": "markdown",
   "metadata": {},
   "source": [
    "Notebookit ovat interaktiivisia tiedostoja, joiden avulla voi tehdä monenlaisia asioita oppilaiden kanssa. Tässä harjoitteessa tutustumme hieman niiden ominaisuuksiin."
   ]
  },
  {
   "cell_type": "markdown",
   "metadata": {},
   "source": [
    "# Ohjelmointia Pythonilla"
   ]
  },
  {
   "cell_type": "markdown",
   "metadata": {},
   "source": [
    "### Mikä, miksi?"
   ]
  },
  {
   "cell_type": "markdown",
   "metadata": {},
   "source": [
    "Ohjelmointi on  toimintaohjeiden  eli  ohjelmien  laatimista  tietokoneelle  tai  vastaavalle  laitteelle.  Ohjelmointia voisi  verrata  ruuanlaittoon. Ruuanlaitossakin  noudatetaan  yksityiskohtaisia ohjeita.\n",
    "\n",
    "Tavallisesti ohjelmia kirjoitetaan käyttäen jotain ohjelmointikieltä. Eri ohjelmointikieliä ovat esimerkiksi  Python, Javascript,  Ruby,  Scala,  Pascal, C++ ja Basic. Tämän harjoituksen tehtävät ratkaistaan Python 3.4 kieltä käyttäen. (https://www.python.org)\n",
    "\n",
    "Normaalisti omalle tietokoneelle pitäisi asentaa vielä Python kielen kääntäjä-ohjelma, mutta tässä dokumentissä kääntämisen hoitaa MyBinder sivuston palvelimilla, jolloin erillisiä ohjelmia ei tarvita\n",
    "\n",
    "Jos haluat harrastaa Python ohjelmointia kotona, kannattaa omalle koneelle ladata Python Anaconda -ohjelma. Se sisältää Python 3.4 kääntäjän ja lisäksi paljon muita hyödyllisiä paketteja valmiiksi asennettuna."
   ]
  },
  {
   "cell_type": "markdown",
   "metadata": {},
   "source": [
    "### Miten?"
   ]
  },
  {
   "cell_type": "markdown",
   "metadata": {},
   "source": [
    "Kokeile! Klikkaa osia tästä tekstistä.\n",
    "\n",
    "Kuten ehkä huomaat, tämä dokumentti on jaettu *soluihin*. Kuhunkin soluun voi laittaa joko tekstiä (markdown) tai koodia. Soluja klikkailemalla näet, millaisilla merkinnöillä niiden muotoilu on tehty, kuten **tämä lihavointi tässä**. Tarkempia ohjeita löydät [täältä](https://github.com/cms-opendata-education/cms-jupyter-materials-finnish/blob/master/Johdatus-jupyteriin/Jupyter-aloitus.ipynb), mutta tärkeimmät pikaohjeet löydät alta. "
   ]
  },
  {
   "cell_type": "markdown",
   "metadata": {},
   "source": [
    "### Aloitellaas puuhastelu"
   ]
  },
  {
   "cell_type": "markdown",
   "metadata": {},
   "source": [
    "Tietokoneet ovat paljon ihmistä yksinkertaisempia. Jotta ne ymmärtävät mitä ovat laskemassa, niille täytyy kertoa hyvin tarkkaan mitä ollaan tekemässä. Alustetaan ensin vähän tietokonettamme valikoimalla sille käyttöön muutama Pythonin tarvitsema paketti. \n",
    "\n",
    "**Huomaa, että kukin koodinpätkä on tässä Notebookissa omana solunaan, jonka saat *ajettua* valitsemalla sen hiirellä ja painamalla *Ctrl+Enter*.** Kun vieressä olevassa In [ ] -kohdassa näkyy * , koodia ajetaan. Jos siinä näkyy numero, solu on ajettu.\n",
    "\n",
    "Aja soluja mieluiten ensin järjestyksessä, jotta tietokone ymmärtää muuttujat oikein. Sen jälkeen voit alkaa vapaasti leikkimään ja kokeilemaan mitä koodilla saakaan aikaan. **Jos kuitenkin saat notebookin jotenkin solmuun, paina yläriviltä \"Kernel\"-valikosta *Restart & Clear Output*, joka pyyhkii muutokset.**\n",
    "\n",
    "Alla oleva ensimmäinen koodisolu on tärkeä, ilman sitä muut eivät välttämättä toimi. **Aja se aina ensin!**"
   ]
  },
  {
   "cell_type": "code",
   "execution_count": null,
   "metadata": {
    "collapsed": true
   },
   "outputs": [],
   "source": [
    "# Olen koodisolu! Risuaidalla merkattu rivi on kommentti, joka tekee koodista ihmiselle luettavampaa.\n",
    "# Aja tämä solu ensin, jotta python tietää mitä sillä ollaan tekemässä (eli haetaan sopivat paketit).\n",
    "\n",
    "import pandas as pd\n",
    "import numpy as np\n",
    "import matplotlib.pyplot as plt\n",
    "from fractions import Fraction\n",
    "\n",
    "%matplotlib inline\n"
   ]
  },
  {
   "cell_type": "markdown",
   "metadata": {},
   "source": [
    "Sitten voimmekin aloittaa yksinkertaisilla harjotteilla."
   ]
  },
  {
   "cell_type": "markdown",
   "metadata": {},
   "source": [
    "### Perusasioita"
   ]
  },
  {
   "cell_type": "markdown",
   "metadata": {},
   "source": [
    "#### Tekstin tulostaminen"
   ]
  },
  {
   "cell_type": "markdown",
   "metadata": {},
   "source": [
    "Jo tekstin tulostaminen tietokoneen ruudulle vaatii komennon. Tällainen komento Pythonissa **print()**."
   ]
  },
  {
   "cell_type": "code",
   "execution_count": null,
   "metadata": {
    "collapsed": true
   },
   "outputs": [],
   "source": [
    "# Tämä on kommentrivi, jota ei tulkata\n",
    "# Merkkijonot pitää aina laittaa lainausmerkkeihin \"\"\n",
    "print(\"Hei maailma!\")\n"
   ]
  },
  {
   "cell_type": "markdown",
   "metadata": {},
   "source": [
    "##### Tehtävä 1\n",
    "Muokkaa yllä olevaa koodia niin, että se tulostaa sinun nimesi ruudulle."
   ]
  },
  {
   "cell_type": "markdown",
   "metadata": {},
   "source": [
    "#### Muuttuja"
   ]
  },
  {
   "cell_type": "markdown",
   "metadata": {},
   "source": [
    "**Muuttuja** on tärkeä käsite ohjelmoinnissa. Sitä voidaan ajatella laatikkona, johon voidaan tallentaa tietoa.\n",
    "\n",
    "Muuttujalle asetetaan *arvo* yhtäsuuruusmerkillä. Muuttujaan tallennettavalla arvolla on myös aina jokin tyyppi.\n",
    "\n",
    "Arvon tyyppi voi olla:\n",
    "- Kokonaisluku (int)\n",
    "- desimaaliluku (float)\n",
    "- merkkijono (str)\n",
    "\n",
    "Muuttujia, joilla on eri tyyppi, ei voi suoraan laskea yhteen."
   ]
  },
  {
   "cell_type": "code",
   "execution_count": null,
   "metadata": {},
   "outputs": [],
   "source": [
    "# Tässä koodissa muuttujille x ja y annetaan kokonaisluku arvoja\n",
    "# Muuttuja x saa arvon 1 ja muuttuja y saa arvon 2\n",
    "# Koodi laskee muuttujat 1 ja 2 yhteen.\n",
    "x=1\n",
    "y=2\n",
    "print(x+y)"
   ]
  },
  {
   "cell_type": "markdown",
   "metadata": {},
   "source": [
    "##### Tehtävä 2\n",
    "Muutta yllä olevaa koodia siten, että siinä lasketaan luvut 10 ja 100 yhteen."
   ]
  },
  {
   "cell_type": "code",
   "execution_count": null,
   "metadata": {},
   "outputs": [],
   "source": [
    "# Muuttujiin voi tallentaa myös merkkijonoja\n",
    "# Merkkijonot pitää aina laittaa lainausmerkkeihin \"\"\n",
    "x=\"ohjelmointi \"\n",
    "y=\"on \"\n",
    "z=\"kivaa!\"\n",
    "print(x+y+z)"
   ]
  },
  {
   "cell_type": "markdown",
   "metadata": {},
   "source": [
    "##### Tehtävä 3\n",
    "Muokkaa yllä olevaa koodia niin, että se tulostaa \"Matematiikka on kivaa!\""
   ]
  },
  {
   "cell_type": "markdown",
   "metadata": {},
   "source": [
    "#### Syöte"
   ]
  },
  {
   "cell_type": "markdown",
   "metadata": {},
   "source": [
    "Ohjelmissa tarvitaan usein syötteitä käyttäjiltä. Käyttäjältä voidaan pyytää syöte komennolla **input()**.\n",
    "\n",
    "Syötetty tieto pitää tallentaa johonkin. Tallentaminen onnistuu siten, että asetetaan muuttujan arvoksi syötetty tieto.\n",
    "\n",
    "Python tulkitsee syötteenä annetut tiedot automaattisesti merkkijonoksi. Jos haluat muuttaa syötteen tyyppiä esimerkiksi kokonaisluvuiksi, se täytyy ilmaista kääntäjälle käyttämällä **()int** -tyyppimuunnosta. "
   ]
  },
  {
   "cell_type": "markdown",
   "metadata": {},
   "source": [
    "##### Tehtävä 3\n",
    "Tarkastele kahta alla olevaa koodia, ensimmäinen tuliktsee syötteen tekstinä(merkkijonona) ja toinen muuttaa syötteen kokonaisluvuiksi ennen yhteenlaskemista."
   ]
  },
  {
   "cell_type": "code",
   "execution_count": null,
   "metadata": {},
   "outputs": [],
   "source": [
    "#Sulkujen sisällä oleva teksti tulostetaan ennen syötteen antamista\n",
    "luku1 = input(\"Anna ensimmäinen kokonaisluku:\")\n",
    "luku2 = input(\"Anna toinen kokonaisluku:\")\n",
    "\n",
    "# Kääntäjä tulkitsee luvut tekstinä ja latoo numerot vain peräkkäin\n",
    "print(luku1+luku2)"
   ]
  },
  {
   "cell_type": "code",
   "execution_count": null,
   "metadata": {},
   "outputs": [],
   "source": [
    "# Komento int() muuttaa edelisessä koodissa annetut syötteet kokonaisluvuiksi.\n",
    "luku1 = int(luku1)\n",
    "luku2 = int(luku2)\n",
    "\n",
    "# Python osaa suorittaa kaikki laskutoimitukset itse, kunhan annetut arvot ovat kokonaislukuja tai desimaalilukuja\n",
    "print(luku1+luku2)"
   ]
  },
  {
   "cell_type": "markdown",
   "metadata": {},
   "source": [
    "### Perus laskutoimituksia"
   ]
  },
  {
   "cell_type": "markdown",
   "metadata": {},
   "source": [
    "Python ohjelmointikielessä on sisään rakennettu ohjelmisto matematiikan laskemista varten. Sillä pystyy laskemaan kaikki laskut, kunhan sitä osaa vain komentaa."
   ]
  },
  {
   "cell_type": "markdown",
   "metadata": {},
   "source": [
    "##### Yhteenlasku\n",
    "Laske $1+2$"
   ]
  },
  {
   "cell_type": "code",
   "execution_count": 23,
   "metadata": {},
   "outputs": [
    {
     "name": "stdout",
     "output_type": "stream",
     "text": [
      "3\n"
     ]
    }
   ],
   "source": [
    "print(1+2)"
   ]
  },
  {
   "cell_type": "markdown",
   "metadata": {},
   "source": [
    "##### Tehtävä 4\n",
    "Muuta ylläolevaa koodia ja laske $123456 + 123123$"
   ]
  },
  {
   "cell_type": "markdown",
   "metadata": {},
   "source": [
    "###### Vähennyslasku\n",
    "Laske $3-5$"
   ]
  },
  {
   "cell_type": "code",
   "execution_count": 24,
   "metadata": {},
   "outputs": [
    {
     "name": "stdout",
     "output_type": "stream",
     "text": [
      "-2\n"
     ]
    }
   ],
   "source": [
    "print(3-5)"
   ]
  },
  {
   "cell_type": "markdown",
   "metadata": {},
   "source": [
    "##### Tehtävä 5\n",
    "Muuta yllä olevaa koodia ja laske $6453-8567$"
   ]
  },
  {
   "cell_type": "markdown",
   "metadata": {},
   "source": [
    "##### kertolasku\n",
    "Laske $5 \\cdot 5$"
   ]
  },
  {
   "cell_type": "code",
   "execution_count": 25,
   "metadata": {},
   "outputs": [
    {
     "name": "stdout",
     "output_type": "stream",
     "text": [
      "25\n"
     ]
    }
   ],
   "source": [
    "# * on kertomerkki\n",
    "print(5*5)"
   ]
  },
  {
   "cell_type": "markdown",
   "metadata": {},
   "source": [
    "##### Tehtävä 6\n",
    "Muuta yllä olevaa koodia ja laske $15 \\cdot 123$"
   ]
  },
  {
   "cell_type": "markdown",
   "metadata": {},
   "source": [
    "##### Jakolasku\n",
    "laske $\\frac{10}{5}$ ja $\\frac{5}{10}$"
   ]
  },
  {
   "cell_type": "code",
   "execution_count": null,
   "metadata": {},
   "outputs": [],
   "source": [
    "# / on jakomerkki\n",
    "print(10/5)\n",
    "print(5/10)"
   ]
  },
  {
   "cell_type": "markdown",
   "metadata": {},
   "source": [
    "Huomataan, että Python antaa jakolaskut aina desimaalilukuna. Tulos voidaan muuttaa murtoluvuksi komennolla **Fraction()**. Tällöin jakomerkkinä käytetään pilkkua **,** ."
   ]
  },
  {
   "cell_type": "code",
   "execution_count": 42,
   "metadata": {},
   "outputs": [
    {
     "name": "stdout",
     "output_type": "stream",
     "text": [
      "1/2\n"
     ]
    }
   ],
   "source": [
    "# Laittamalla jakoslaskun komennon Fraction() sisälle pilkulla erotettuna, saadaan tulos murtolukuna\n",
    "# , on nyt jakomerkki\n",
    "print(Fraction(5,10))"
   ]
  },
  {
   "cell_type": "markdown",
   "metadata": {},
   "source": [
    "##### Tehtävä \n",
    "Muuta yllä olevaa koodia ja sievennä murtoluku $\\frac{18}{237}$"
   ]
  },
  {
   "cell_type": "markdown",
   "metadata": {},
   "source": [
    "#### Laskujärjestys"
   ]
  },
  {
   "cell_type": "markdown",
   "metadata": {},
   "source": [
    "Laskujärjesty on aina vasemmalta oikealla, myös Pythonilla ohjelmoitaessa. Laskujäjestystä voidaan muuttaa sulkeilla **()**,myös Pythonilla ohjelmoitaessa"
   ]
  },
  {
   "cell_type": "code",
   "execution_count": 22,
   "metadata": {},
   "outputs": [
    {
     "name": "stdout",
     "output_type": "stream",
     "text": [
      "5.0\n"
     ]
    }
   ],
   "source": [
    "print(2+6/2)"
   ]
  },
  {
   "cell_type": "markdown",
   "metadata": {},
   "source": [
    "##### Tehtävä 8\n",
    "\n",
    "Muuta yllä olevaa koodia sulkujen () avulla niin, että yhteenlasku $2+6$ suoritetaan ensin ja jakolasku sen jälkeen. Tulokseksi pitäisi saada 4.0"
   ]
  },
  {
   "cell_type": "markdown",
   "metadata": {},
   "source": [
    "### Kertaavia harjoituksia koetta ajatellen"
   ]
  },
  {
   "cell_type": "markdown",
   "metadata": {},
   "source": [
    "### HT1 Laskujärjestys\n",
    "Kirjoita koodi, joka tulostaa laskun $((15+8)\\cdot 3):2$\n",
    "\n",
    "*Vastaus: 34,5*"
   ]
  },
  {
   "cell_type": "code",
   "execution_count": 43,
   "metadata": {},
   "outputs": [
    {
     "name": "stdout",
     "output_type": "stream",
     "text": [
      "34.5\n"
     ]
    }
   ],
   "source": [
    "# Kirjoita koodi print() komennon sisään\n",
    "print()"
   ]
  },
  {
   "cell_type": "markdown",
   "metadata": {},
   "source": [
    "**Mikä laskutoimitus lasketaan ensin, jos lausekkeesta jätetään sulut pois?** \n",
    "\n",
    "$15 + 8 \\cdot 3 : 2 $\n",
    "\n",
    "Vastaus: \n",
    "\n",
    "*Vastaa kaksoisnapauttamalla tätä solua, jolloin pääset muokkaamaan solun tekstiä, kirjoita vastaus yläpuolelle. Lopuksi paina \"**CTRL+ENTER**\"*"
   ]
  },
  {
   "cell_type": "markdown",
   "metadata": {},
   "source": [
    "HT 1.2\n",
    "\n",
    "Laske ensin itse lasku $(4+4):(1+3)$ . Tarkista vastaus alla olevalla koodilla.\n",
    "\n",
    "Vastaus:\n"
   ]
  },
  {
   "cell_type": "code",
   "execution_count": 55,
   "metadata": {},
   "outputs": [
    {
     "name": "stdout",
     "output_type": "stream",
     "text": [
      "2\n"
     ]
    }
   ],
   "source": [
    "print(int((4+4)/(1+3)))"
   ]
  },
  {
   "cell_type": "markdown",
   "metadata": {},
   "source": [
    "HT 1.3\n",
    "\n",
    "Laske ensin itse lasku $0,3 + 1,2$.  Muunna vastaus murtoluvuksi. Tarkista vastaus alla olevalla koodilla\n",
    "\n",
    "Vastaus:"
   ]
  },
  {
   "cell_type": "code",
   "execution_count": 56,
   "metadata": {},
   "outputs": [
    {
     "name": "stdout",
     "output_type": "stream",
     "text": [
      "3/2\n"
     ]
    }
   ],
   "source": [
    "print(Fraction(0.3+1.2))"
   ]
  },
  {
   "cell_type": "markdown",
   "metadata": {},
   "source": [
    "### HT 2 Pyöristäminen\n",
    "Jos luvussa **ensimmäinen pois jäävä** numero on viisi tai sitä suurempi, **viimeinen mukaan tuleva** numero on korotettava yhdellä"
   ]
  },
  {
   "cell_type": "markdown",
   "metadata": {},
   "source": [
    "**Kirjoita tehtävä vastaus ensin tähän tekstikenttään ja tarkista tulos sitten ohjelman avulla**\n",
    "\n",
    "HT 2.1\n",
    "Pyöristä luku 3,0674 yhden desimaalin tarkkuudella\n",
    "\n",
    "Vastaus:\n",
    "\n",
    "HT 2.3\n",
    "Pyöristä luku 2,00124 yhden desimaalin tarkkuudella\n",
    "\n",
    "Vastaus:\n",
    "\n",
    "HT 2.4\n",
    "Pyöristä luku 3,43 yhden desimaalin tarkkuudella\n",
    "\n",
    "Vastaus:"
   ]
  },
  {
   "cell_type": "code",
   "execution_count": 52,
   "metadata": {},
   "outputs": [
    {
     "name": "stdout",
     "output_type": "stream",
     "text": [
      "Kirjoita desimaaliluku. MUISTA KÄYTTÄÄ PISTETTÄ PILKUN SIJAAN. ESIM. 3,0674 pitää kirjoittaa muodossa 3.06742.0041\n",
      "Vastus: 2.0\n"
     ]
    }
   ],
   "source": [
    "# Tarkista kaikki vastauksesi tällä koodilla. Voit ajaa koodia uudelleen ja uudelleen.\n",
    "# komento round(luku,tarkkuus) pyöristää annetut luvut\n",
    "luku = float(input(\"Kirjoita desimaaliluku. MUISTA KÄYTTÄÄ PISTETTÄ PILKUN SIJAAN. ESIM. 3,0674 pitää kirjoittaa muodossa 3.0674\"))\n",
    "print(\"Vastus:\", round(luku,2))"
   ]
  },
  {
   "cell_type": "markdown",
   "metadata": {},
   "source": []
  },
  {
   "cell_type": "markdown",
   "metadata": {},
   "source": [
    "# Palauta interaktiivinen asiakirja lopuksi opettajalla"
   ]
  },
  {
   "cell_type": "markdown",
   "metadata": {},
   "source": [
    "Tallenna tunnilla asiakirjaan tekemäsi muutokset HTML-tiedostoksi. Tämä onnistuu\n",
    "File --> Download As --> HTML (.html)\n",
    "\n",
    "Lähetä tiedosto sähköpostin liitteenä opettajalle osoitteeseen: jaakko.tuominen@edu.lahti.fi\n",
    "\n",
    "**Ilmoita opettajalle kun olet valmis.**"
   ]
  }
 ],
 "metadata": {
  "kernelspec": {
   "display_name": "Python 3",
   "language": "python",
   "name": "python3"
  },
  "language_info": {
   "codemirror_mode": {
    "name": "ipython",
    "version": 3
   },
   "file_extension": ".py",
   "mimetype": "text/x-python",
   "name": "python",
   "nbconvert_exporter": "python",
   "pygments_lexer": "ipython3",
   "version": "3.6.1"
  }
 },
 "nbformat": 4,
 "nbformat_minor": 2
}
